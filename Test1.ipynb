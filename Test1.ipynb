{
 "cells": [
  {
   "cell_type": "markdown",
   "metadata": {},
   "source": [
    "# Welcome to Jupyter!"
   ]
  },
  {
   "cell_type": "code",
   "execution_count": 1,
   "metadata": {},
   "outputs": [
    {
     "name": "stdout",
     "output_type": "stream",
     "text": [
      "<class 'int'>\n",
      "<class 'float'>\n",
      "<class 'str'>\n"
     ]
    }
   ],
   "source": [
    "# 1. Create three variables in a single line and assign values to them in such a mannerthat each one of them belongs to a different data type.\n",
    "\n",
    "a = 3\n",
    "b = 2.3\n",
    "c = 'Hello World'\n",
    "\n",
    "print(type(a))\n",
    "print(type(b))\n",
    "print(type(c))"
   ]
  },
  {
   "cell_type": "markdown",
   "metadata": {},
   "source": [
    "This repo contains an introduction to [Jupyter](https://jupyter.org) and [IPython](https://ipython.org).\n",
    "\n",
    "Outline of some basics:\n",
    "\n",
    "* [Notebook Basics](../examples/Notebook/Notebook%20Basics.ipynb)\n",
    "* [IPython - beyond plain python](../examples/IPython%20Kernel/Beyond%20Plain%20Python.ipynb)\n",
    "* [Markdown Cells](../examples/Notebook/Working%20With%20Markdown%20Cells.ipynb)\n",
    "* [Rich Display System](../examples/IPython%20Kernel/Rich%20Output.ipynb)\n",
    "* [Custom Display logic](../examples/IPython%20Kernel/Custom%20Display%20Logic.ipynb)\n",
    "* [Running a Secure Public Notebook Server](../examples/Notebook/Running%20the%20Notebook%20Server.ipynb#Securing-the-notebook-server)\n",
    "* [How Jupyter works](../examples/Notebook/Multiple%20Languages%2C%20Frontends.ipynb) to run code in different languages."
   ]
  },
  {
   "cell_type": "code",
   "execution_count": 2,
   "metadata": {},
   "outputs": [
    {
     "name": "stdout",
     "output_type": "stream",
     "text": [
      "<class 'int'>\n",
      "<class 'complex'>\n"
     ]
    }
   ],
   "source": [
    "# 2. Create a variable of type complex and swap it with another variable of type integer.\n",
    "\n",
    "x = 2+5j\n",
    "y = 10\n",
    "\n",
    "x, y = y, x\n",
    "\n",
    "print (type(x))\n",
    "print (type(y))"
   ]
  },
  {
   "cell_type": "markdown",
   "metadata": {},
   "source": [
    "You can also get this tutorial and run it on your laptop:\n",
    "\n",
    "    git clone https://github.com/ipython/ipython-in-depth\n",
    "\n",
    "Install IPython and Jupyter:\n",
    "\n",
    "with [conda](https://www.anaconda.com/download):\n",
    "\n",
    "    conda install ipython jupyter\n",
    "\n",
    "with pip:\n",
    "\n",
    "    # first, always upgrade pip!\n",
    "    pip install --upgrade pip\n",
    "    pip install --upgrade ipython jupyter\n",
    "\n",
    "Start the notebook in the tutorial directory:\n",
    "\n",
    "    cd ipython-in-depth\n",
    "    jupyter notebook"
   ]
  },
  {
   "cell_type": "code",
   "execution_count": 3,
   "metadata": {},
   "outputs": [
    {
     "name": "stdout",
     "output_type": "stream",
     "text": [
      "a = 15\n",
      "b = 10\n"
     ]
    }
   ],
   "source": [
    "# 3. Swap two numbers using a third variable and do the same task without using any third variable.\n",
    "\n",
    "a = 10\n",
    "b = 15\n",
    "\n",
    "c = a\n",
    "a = b\n",
    "b = c\n",
    "\n",
    "print(\"a =\", a)\n",
    "print(\"b =\", b)\n"
   ]
  },
  {
   "cell_type": "code",
   "execution_count": 4,
   "metadata": {},
   "outputs": [
    {
     "name": "stdout",
     "output_type": "stream",
     "text": [
      "a = 13\n",
      "b = 3\n"
     ]
    }
   ],
   "source": [
    "# Swap two numbers without using any third variable\n",
    "\n",
    "a = 3\n",
    "b = 13\n",
    "\n",
    "a, b = b, a\n",
    "\n",
    "print(\"a =\", a)\n",
    "print(\"b =\", b)\n"
   ]
  },
  {
   "cell_type": "code",
   "execution_count": 5,
   "metadata": {},
   "outputs": [
    {
     "name": "stdout",
     "output_type": "stream",
     "text": [
      "enter a number: 10\n",
      "10\n"
     ]
    }
   ],
   "source": [
    "# Write a program that takes input from the user and prints it using both Python 2.x and Python 3.x\n",
    "\n",
    "# Python 2\n",
    "x = input('enter a number: ')\n",
    "print (x)\n"
   ]
  },
  {
   "cell_type": "code",
   "execution_count": 6,
   "metadata": {},
   "outputs": [
    {
     "name": "stdout",
     "output_type": "stream",
     "text": [
      "enter a number: 5\n",
      "5\n"
     ]
    }
   ],
   "source": [
    "# Python 2\n",
    "x = input('enter a number: ')\n",
    "print (x)\n"
   ]
  },
  {
   "cell_type": "code",
   "execution_count": null,
   "metadata": {},
   "outputs": [],
   "source": [
    "'''Ask users to enter any 2 numbers in between 1-10 , add the two numbers and keep the sum in another variable called z. \n",
    "Add 30 to z and store the output in variable result and print result as the final output.'''\n",
    "\n",
    "x = int(input(\"Enter a number between 1 - 10 : \"))\n",
    "y = int(input(\"Enter a number between 1 - 10 : \"))\n",
    "z = (x+y+30)\n",
    "print (\"total: \" ,(z))"
   ]
  },
  {
   "cell_type": "code",
   "execution_count": null,
   "metadata": {},
   "outputs": [],
   "source": [
    "# Write a program to check the data type of the entered values.\n",
    "\n",
    "a = input(\"Enter value: \")\n",
    "    if type(eval(a)) == float:\n",
    "        print(a, \" is floating point number\")\n",
    "    elif type(eval(a)) == int:\n",
    "        print(a, \" is integer number\") \n",
    "    elif type(eval(a)) == bool:\n",
    "        print(a, \" is a boolean\") \n",
    "else:\n",
    "    print(\"That is a string\")"
   ]
  },
  {
   "cell_type": "code",
   "execution_count": null,
   "metadata": {},
   "outputs": [],
   "source": [
    "#Create Variables using formats such as Upper CamelCase, Lower CamelCase, SnakeCase and UPPERCASE\n",
    "\n",
    "a = 'UpperCamelCase', 'Hello World'\n",
    "b = 'lowerCamelCase', 'hello world'\n",
    "c= 'snake_case', 'hello_world'\n",
    "d = 'UPPERCASE', 'HELLO WORLD'"
   ]
  },
  {
   "cell_type": "code",
   "execution_count": null,
   "metadata": {},
   "outputs": [],
   "source": [
    "'''f one data type value is assigned to ‘a’ variable and then a different data type value is assigned to ‘a’ again. \n",
    "Will it change the value? If Yes then Why?'''\n",
    "\n",
    "'''Yes, variables in Python can be reassigned to a new value that is a different data type from its current value. \n",
    "In fact, variables can be reassigned to any valid value in Python, regardless of its current value.'''"
   ]
  },
  {
   "cell_type": "code",
   "execution_count": null,
   "metadata": {},
   "outputs": [],
   "source": []
  },
  {
   "cell_type": "code",
   "execution_count": null,
   "metadata": {},
   "outputs": [],
   "source": []
  },
  {
   "cell_type": "code",
   "execution_count": null,
   "metadata": {},
   "outputs": [],
   "source": []
  }
 ],
 "metadata": {
  "kernelspec": {
   "display_name": "Python 3",
   "language": "python",
   "name": "python3"
  },
  "language_info": {
   "codemirror_mode": {
    "name": "ipython",
    "version": 3
   },
   "file_extension": ".py",
   "mimetype": "text/x-python",
   "name": "python",
   "nbconvert_exporter": "python",
   "pygments_lexer": "ipython3",
   "version": "3.6.13"
  }
 },
 "nbformat": 4,
 "nbformat_minor": 2
}
